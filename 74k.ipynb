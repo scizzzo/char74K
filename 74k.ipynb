{
 "cells": [
  {
   "cell_type": "code",
   "execution_count": 1,
   "metadata": {},
   "outputs": [
    {
     "name": "stderr",
     "output_type": "stream",
     "text": [
      "Using TensorFlow backend.\n"
     ]
    }
   ],
   "source": [
    "import pandas as pd\n",
    "import numpy as np\n",
    "from sklearn.preprocessing import LabelEncoder, LabelBinarizer\n",
    "from sklearn.model_selection import train_test_split\n",
    "from sklearn.metrics import confusion_matrix\n",
    "from sklearn.neighbors import KNeighborsClassifier\n",
    "from scipy import misc\n",
    "import os\n",
    "import imgaug.augmenters as iaa\n",
    "import matplotlib.pyplot as plt\n",
    "import matplotlib.image as mpim\n",
    "from PIL import Image\n",
    "from IPython.display import display\n",
    "from keras.models import Sequential\n",
    "from keras.layers import Dense, Dropout, Flatten, Convolution2D, MaxPooling2D, Conv2D\n",
    "import keras\n",
    "%matplotlib inline"
   ]
  },
  {
   "cell_type": "code",
   "execution_count": 2,
   "metadata": {
    "collapsed": true
   },
   "outputs": [],
   "source": [
    "im_size = 32\n",
    "cl_number = 62"
   ]
  },
  {
   "cell_type": "code",
   "execution_count": 3,
   "metadata": {
    "collapsed": true
   },
   "outputs": [],
   "source": [
    "folder_list = ['Img/GoodImg/Bmp/', 'Img/BadImag/Bmp/']"
   ]
  },
  {
   "cell_type": "markdown",
   "metadata": {},
   "source": [
    "Загрузка меток классов из датасета char74k"
   ]
  },
  {
   "cell_type": "code",
   "execution_count": 4,
   "metadata": {
    "collapsed": true
   },
   "outputs": [],
   "source": [
    "def get_74k_labels():\n",
    "    with open('list_English_Img.m') as f:\n",
    "        data = f.read()\n",
    "        return data.split('];')[0].split('= [')[1].split(';\\n')[:-1]"
   ]
  },
  {
   "cell_type": "code",
   "execution_count": 5,
   "metadata": {
    "collapsed": true
   },
   "outputs": [],
   "source": [
    "labels = get_74k_labels()"
   ]
  },
  {
   "cell_type": "code",
   "execution_count": 6,
   "metadata": {
    "collapsed": true
   },
   "outputs": [],
   "source": [
    "int_labels = [int(x) for x in labels]"
   ]
  },
  {
   "cell_type": "markdown",
   "metadata": {},
   "source": [
    "Загрузка картинок из датасета char74k"
   ]
  },
  {
   "cell_type": "code",
   "execution_count": 7,
   "metadata": {
    "collapsed": true
   },
   "outputs": [],
   "source": [
    "images = np.empty((len(int_labels), 32, 32, 3))\n",
    "i=0\n",
    "for folder in folder_list:\n",
    "    for sampl_fold in sorted(os.listdir(folder), key = lambda str: int(str.split('e0')[1])):\n",
    "        for file in os.listdir(os.path.join(folder,sampl_fold)):\n",
    "            image = misc.imread(os.path.join(folder, sampl_fold,file), mode = 'RGB')\n",
    "            image = misc.imresize(image, (32, 32, 3))\n",
    "            images[i] = image\n",
    "            i += 1"
   ]
  },
  {
   "cell_type": "markdown",
   "metadata": {},
   "source": [
    "One-hot-encoding для меток классов"
   ]
  },
  {
   "cell_type": "code",
   "execution_count": 8,
   "metadata": {
    "collapsed": true
   },
   "outputs": [],
   "source": [
    "binar_encoder = LabelBinarizer()\n",
    "labels_b = binar_encoder.fit_transform(int_labels)\n",
    "#y_test_b = binar_encoder.transform(y_test)"
   ]
  },
  {
   "cell_type": "markdown",
   "metadata": {},
   "source": [
    "Создание и обучение модели на данных из датасета char74k"
   ]
  },
  {
   "cell_type": "code",
   "execution_count": 9,
   "metadata": {
    "collapsed": true
   },
   "outputs": [],
   "source": [
    "convnet = Sequential()\n",
    "convnet.add(Conv2D(64,(10,10),activation='relu',\n",
    "                   input_shape=(im_size,im_size, 3),\n",
    "                   padding = 'same',\n",
    "                   kernel_initializer='glorot_normal'))\n",
    "convnet.add(MaxPooling2D())\n",
    "convnet.add(Conv2D(128,(7,7),activation='relu',padding = 'same',kernel_initializer='glorot_normal'))\n",
    "convnet.add(Conv2D(128,(4,4),activation='relu',kernel_initializer='glorot_normal'))\n",
    "convnet.add(MaxPooling2D())\n",
    "convnet.add(Conv2D(256,(4,4),activation='relu',padding = 'same',kernel_initializer='glorot_normal'))\n",
    "convnet.add(Flatten())\n",
    "convnet.add(Dense(2048, activation='relu', kernel_initializer='glorot_normal'))\n",
    "convnet.add(Dropout(0.5))\n",
    "convnet.add(Dense(2048, activation='relu', kernel_initializer='glorot_normal'))\n",
    "convnet.add(Dropout(0.5))\n",
    "convnet.add(Dense(cl_number,  activation = 'softmax'))"
   ]
  },
  {
   "cell_type": "code",
   "execution_count": 10,
   "metadata": {
    "collapsed": true
   },
   "outputs": [],
   "source": [
    "convnet.compile(keras.optimizers.Adadelta(), keras.losses.categorical_crossentropy, metrics=['accuracy'])"
   ]
  },
  {
   "cell_type": "code",
   "execution_count": 17,
   "metadata": {
    "scrolled": true
   },
   "outputs": [
    {
     "name": "stdout",
     "output_type": "stream",
     "text": [
      "Epoch 1/50\n",
      "12503/12503 [==============================] - 20s - loss: 0.0556 - acc: 0.9893    \n",
      "Epoch 2/50\n",
      "12503/12503 [==============================] - 20s - loss: 0.0609 - acc: 0.9888    \n",
      "Epoch 3/50\n",
      "12503/12503 [==============================] - 20s - loss: 0.0613 - acc: 0.9875    \n",
      "Epoch 4/50\n",
      "12503/12503 [==============================] - 20s - loss: 0.0669 - acc: 0.9884    \n",
      "Epoch 5/50\n",
      "12503/12503 [==============================] - 20s - loss: 0.0635 - acc: 0.9892    \n",
      "Epoch 6/50\n",
      "12503/12503 [==============================] - 20s - loss: 0.0796 - acc: 0.9879    \n",
      "Epoch 7/50\n",
      "12503/12503 [==============================] - 20s - loss: 0.0786 - acc: 0.9858    \n",
      "Epoch 8/50\n",
      "12503/12503 [==============================] - 20s - loss: 0.0671 - acc: 0.9882    \n",
      "Epoch 9/50\n",
      "12503/12503 [==============================] - 20s - loss: 0.0701 - acc: 0.9881    \n",
      "Epoch 10/50\n",
      "12503/12503 [==============================] - 20s - loss: 0.0789 - acc: 0.9865    \n",
      "Epoch 11/50\n",
      "12503/12503 [==============================] - 20s - loss: 0.0603 - acc: 0.9891    \n",
      "Epoch 12/50\n",
      "12503/12503 [==============================] - 20s - loss: 0.0638 - acc: 0.9894    \n",
      "Epoch 13/50\n",
      "12503/12503 [==============================] - 20s - loss: 0.0744 - acc: 0.9885    \n",
      "Epoch 14/50\n",
      "12503/12503 [==============================] - 20s - loss: 0.0748 - acc: 0.9884    \n",
      "Epoch 15/50\n",
      "12503/12503 [==============================] - 20s - loss: 0.0671 - acc: 0.9902    \n",
      "Epoch 16/50\n",
      "12503/12503 [==============================] - 20s - loss: 0.0667 - acc: 0.9894    \n",
      "Epoch 17/50\n",
      "12503/12503 [==============================] - 20s - loss: 0.0768 - acc: 0.9866    \n",
      "Epoch 18/50\n",
      "12503/12503 [==============================] - 20s - loss: 0.0686 - acc: 0.9882    \n",
      "Epoch 19/50\n",
      "12503/12503 [==============================] - 20s - loss: 0.0709 - acc: 0.9889    \n",
      "Epoch 20/50\n",
      "12503/12503 [==============================] - 20s - loss: 0.0770 - acc: 0.9875    \n",
      "Epoch 21/50\n",
      "12503/12503 [==============================] - 20s - loss: 0.0734 - acc: 0.9880    \n",
      "Epoch 22/50\n",
      "12503/12503 [==============================] - 20s - loss: 0.0603 - acc: 0.9902    \n",
      "Epoch 23/50\n",
      "12503/12503 [==============================] - 20s - loss: 0.0498 - acc: 0.9920    \n",
      "Epoch 24/50\n",
      "12503/12503 [==============================] - 20s - loss: 0.0722 - acc: 0.9887    \n",
      "Epoch 25/50\n",
      "12503/12503 [==============================] - 20s - loss: 0.0858 - acc: 0.9868    \n",
      "Epoch 26/50\n",
      "12503/12503 [==============================] - 20s - loss: 0.0677 - acc: 0.9909    \n",
      "Epoch 27/50\n",
      "12503/12503 [==============================] - 20s - loss: 0.0735 - acc: 0.9879    \n",
      "Epoch 28/50\n",
      "12503/12503 [==============================] - 20s - loss: 0.0659 - acc: 0.9899    \n",
      "Epoch 29/50\n",
      "12503/12503 [==============================] - 20s - loss: 0.0726 - acc: 0.9897    \n",
      "Epoch 30/50\n",
      "12503/12503 [==============================] - 20s - loss: 0.0812 - acc: 0.9882    \n",
      "Epoch 31/50\n",
      "12503/12503 [==============================] - 20s - loss: 0.0760 - acc: 0.9882    \n",
      "Epoch 32/50\n",
      "12503/12503 [==============================] - 20s - loss: 0.0803 - acc: 0.9889    \n",
      "Epoch 33/50\n",
      "12503/12503 [==============================] - 20s - loss: 0.0786 - acc: 0.9894    \n",
      "Epoch 34/50\n",
      "12503/12503 [==============================] - 20s - loss: 0.0508 - acc: 0.9922    \n",
      "Epoch 35/50\n",
      "12503/12503 [==============================] - 20s - loss: 0.0742 - acc: 0.9898    \n",
      "Epoch 36/50\n",
      "12503/12503 [==============================] - 20s - loss: 0.0944 - acc: 0.9869    \n",
      "Epoch 37/50\n",
      "12503/12503 [==============================] - 20s - loss: 0.0735 - acc: 0.9891    \n",
      "Epoch 38/50\n",
      "12503/12503 [==============================] - 20s - loss: 0.0714 - acc: 0.9902    \n",
      "Epoch 39/50\n",
      "12503/12503 [==============================] - 20s - loss: 0.0657 - acc: 0.9916    \n",
      "Epoch 40/50\n",
      "12503/12503 [==============================] - 20s - loss: 0.0676 - acc: 0.9909    \n",
      "Epoch 41/50\n",
      "12503/12503 [==============================] - 20s - loss: 0.0765 - acc: 0.9906    \n",
      "Epoch 42/50\n",
      "12503/12503 [==============================] - 20s - loss: 0.0790 - acc: 0.9906    \n",
      "Epoch 43/50\n",
      "12503/12503 [==============================] - 20s - loss: 0.0818 - acc: 0.9892    \n",
      "Epoch 44/50\n",
      "12503/12503 [==============================] - 20s - loss: 0.0828 - acc: 0.9902    \n",
      "Epoch 45/50\n",
      "12503/12503 [==============================] - 20s - loss: 0.0723 - acc: 0.9910    \n",
      "Epoch 46/50\n",
      "12503/12503 [==============================] - 20s - loss: 0.0824 - acc: 0.9904    \n",
      "Epoch 47/50\n",
      "12503/12503 [==============================] - 20s - loss: 0.0777 - acc: 0.9892    \n",
      "Epoch 48/50\n",
      "12503/12503 [==============================] - 20s - loss: 0.0887 - acc: 0.9885    \n",
      "Epoch 49/50\n",
      "12503/12503 [==============================] - 20s - loss: 0.0762 - acc: 0.9904    \n",
      "Epoch 50/50\n",
      "12503/12503 [==============================] - 20s - loss: 0.0689 - acc: 0.9918    \n"
     ]
    },
    {
     "data": {
      "text/plain": [
       "<keras.callbacks.History at 0x7f5ae3c85e10>"
      ]
     },
     "execution_count": 17,
     "metadata": {},
     "output_type": "execute_result"
    }
   ],
   "source": [
    "convnet.fit(images, labels_b, batch_size=32, epochs=50)"
   ]
  },
  {
   "cell_type": "markdown",
   "metadata": {},
   "source": [
    "Проверка модели на тренировочныз данныхю Видим что результат близок к 100%, и практически очевидно, что данные совпадают. Дальнейшая проверка методом 1nn это подтверждает."
   ]
  },
  {
   "cell_type": "code",
   "execution_count": 12,
   "metadata": {},
   "outputs": [
    {
     "data": {
      "text/plain": [
       "LabelEncoder()"
      ]
     },
     "execution_count": 12,
     "metadata": {},
     "output_type": "execute_result"
    }
   ],
   "source": [
    "train_labels = pd.read_csv('trainLabels.csv')\n",
    "lb_coder = LabelEncoder()\n",
    "lb_coder.fit(train_labels.Class.values)"
   ]
  },
  {
   "cell_type": "code",
   "execution_count": 18,
   "metadata": {},
   "outputs": [
    {
     "name": "stdout",
     "output_type": "stream",
     "text": [
      "6272/6283 [============================>.] - ETA: 0s"
     ]
    },
    {
     "data": {
      "text/plain": [
       "[0.033858203061927807, 0.9968168072576794]"
      ]
     },
     "execution_count": 18,
     "metadata": {},
     "output_type": "execute_result"
    }
   ],
   "source": [
    "f_train = os.listdir('train')\n",
    "images_train = np.zeros((len(f_train), im_size, im_size, 3))\n",
    "for i, file in enumerate(sorted(f_train,key = lambda str: int(str.split('.')[0]))):\n",
    "    #print(file)\n",
    "    real_name = os.path.join('train', file)\n",
    "    image = misc.imread(real_name,mode = 'RGB')\n",
    "    image = misc.imresize(image,(im_size, im_size))\n",
    "    #print(image.shape)\n",
    "    images_train[i] = image\n",
    "convnet.evaluate(images_train, binar_encoder.fit_transform(train_labels.Class.values))"
   ]
  },
  {
   "cell_type": "markdown",
   "metadata": {},
   "source": [
    "Получаем предсказание для тестовой выборки"
   ]
  },
  {
   "cell_type": "code",
   "execution_count": 19,
   "metadata": {
    "collapsed": true
   },
   "outputs": [],
   "source": [
    "f_tests = os.listdir('test')\n",
    "images_test = np.zeros((len(f_tests), im_size, im_size, 3))\n",
    "for i, file in enumerate(sorted(f_tests,key = lambda str: int(str.split('.')[0]))):\n",
    "    #print(file)\n",
    "    real_name = os.path.join('test', file)\n",
    "    image = misc.imread(real_name,mode = 'RGB')\n",
    "    image = misc.imresize(image,(im_size, im_size))\n",
    "    #print(image.shape)\n",
    "    images_test[i] = image"
   ]
  },
  {
   "cell_type": "code",
   "execution_count": 26,
   "metadata": {
    "collapsed": true
   },
   "outputs": [],
   "source": [
    "res = convnet.predict(images_test)\n",
    "test_csv = pd.read_csv('sampleSubmission.csv')\n",
    "test_csv.drop('Class', inplace=True, axis = 1)\n",
    "res_binar = binar_encoder.inverse_transform(res)\n",
    "\n",
    "test_csv['Class'] = pd.Series(res_binar)\n",
    "test_csv.to_csv('result74K.csv', index = False)"
   ]
  },
  {
   "cell_type": "code",
   "execution_count": 24,
   "metadata": {},
   "outputs": [
    {
     "data": {
      "text/plain": [
       "array(['H', 'E', 'I', ..., 'R', 'N', 'M'],\n",
       "      dtype='<U1')"
      ]
     },
     "execution_count": 24,
     "metadata": {},
     "output_type": "execute_result"
    }
   ],
   "source": [
    "res_binar"
   ]
  },
  {
   "cell_type": "code",
   "execution_count": 102,
   "metadata": {
    "collapsed": true
   },
   "outputs": [],
   "source": [
    "knn = KNeighborsClassifier(1)"
   ]
  },
  {
   "cell_type": "code",
   "execution_count": 106,
   "metadata": {},
   "outputs": [
    {
     "data": {
      "text/plain": [
       "KNeighborsClassifier(algorithm='auto', leaf_size=30, metric='minkowski',\n",
       "           metric_params=None, n_jobs=1, n_neighbors=1, p=2,\n",
       "           weights='uniform')"
      ]
     },
     "execution_count": 106,
     "metadata": {},
     "output_type": "execute_result"
    }
   ],
   "source": [
    "knn.fit(images.reshape((images.shape[0], im_size*im_size*3)), np.array(int_labels))\n",
    "knn.score(images_test.reshape((images_test.shape[0], im_size*im_size*3)),train_labels.Class.values)"
   ]
  },
  {
   "cell_type": "code",
   "execution_count": 107,
   "metadata": {
    "collapsed": true
   },
   "outputs": [],
   "source": []
  },
  {
   "cell_type": "code",
   "execution_count": null,
   "metadata": {
    "collapsed": true
   },
   "outputs": [],
   "source": []
  }
 ],
 "metadata": {
  "kernelspec": {
   "display_name": "Python 3",
   "language": "python",
   "name": "python3"
  },
  "language_info": {
   "codemirror_mode": {
    "name": "ipython",
    "version": 3
   },
   "file_extension": ".py",
   "mimetype": "text/x-python",
   "name": "python",
   "nbconvert_exporter": "python",
   "pygments_lexer": "ipython3",
   "version": "3.6.1"
  }
 },
 "nbformat": 4,
 "nbformat_minor": 2
}
